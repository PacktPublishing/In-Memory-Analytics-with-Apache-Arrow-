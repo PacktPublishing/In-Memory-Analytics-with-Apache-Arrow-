{
 "cells": [
  {
   "cell_type": "markdown",
   "id": "16810c94-5298-49c2-9e2d-ded050ce23ec",
   "metadata": {},
   "source": [
    "# Chapter 3\n",
    "\n",
    "If you've used `git lfs` to download the sample data files, you'll have pulled down the sliced.parquet file, run the next cell to generate the csv file from it before moving on!\n",
    "\n",
    "If you already have the `sliced.csv` file, you can skip this cell"
   ]
  },
  {
   "cell_type": "code",
   "execution_count": 1,
   "id": "b9390dbb-cc11-4a73-b21a-b8295ceddf52",
   "metadata": {
    "tags": []
   },
   "outputs": [],
   "source": [
    "import pyarrow as pa\n",
    "import pyarrow.csv\n",
    "import pyarrow.parquet as pq\n",
    "\n",
    "# write out csv version of the parquet file that is provided in the repo\n",
    "sliced = pq.read_table('../sample_data/sliced.parquet')\n",
    "pa.csv.write_csv(sliced, '../sample_data/sliced.csv')"
   ]
  },
  {
   "cell_type": "code",
   "execution_count": 2,
   "id": "d14a5402-9fc0-4c37-a4cc-3bcc66aaa8a5",
   "metadata": {
    "slideshow": {
     "slide_type": "slide"
    },
    "tags": [
     "startup"
    ]
   },
   "outputs": [],
   "source": [
    "import pyspark as pyspark\n",
    "from pyspark import SparkContext\n",
    "conf = pyspark.SparkConf()\n",
    "conf.set(\"spark.executor.memory\", \"8g\")\n",
    "conf.set(\"spark.driver.memory\", \"8g\")\n",
    "conf.set('spark.jars.packages', 'org.apache.hadoop:hadoop-aws:3.3.1')\n",
    "sc = SparkContext(conf=conf)\n",
    "sc._jsc.hadoopConfiguration().set('fs.s3a.aws.credentials.provider', 'org.apache.hadoop.fs.s3a.AnonymousAWSCredentialsProvider')\n",
    "sc._jsc.hadoopConfiguration().set('fs.s3a.impl', 'org.apache.hadoop.fs.s3a.S3AFileSystem')\n",
    "\n",
    "from pyspark.sql import SparkSession\n",
    "spark = SparkSession(sc)"
   ]
  },
  {
   "cell_type": "code",
   "execution_count": 3,
   "id": "74d77f0d-6823-4a5e-b515-7dd97f4d2af6",
   "metadata": {},
   "outputs": [
    {
     "name": "stdout",
     "output_type": "stream",
     "text": [
      "CPU times: user 4.82 s, sys: 3.61 s, total: 8.43 s\n",
      "Wall time: 801 ms\n"
     ]
    }
   ],
   "source": [
    "%%time\n",
    "import pyarrow as pa\n",
    "import pyarrow.csv\n",
    "import pyarrow.parquet as pq\n",
    "\n",
    "pdf = pa.csv.read_csv('../sample_data/sliced.csv').to_pandas()"
   ]
  },
  {
   "cell_type": "code",
   "execution_count": 4,
   "id": "8d95b706-56aa-4cdf-b7fa-54250388acd7",
   "metadata": {},
   "outputs": [
    {
     "name": "stdout",
     "output_type": "stream",
     "text": [
      "CPU times: user 0 ns, sys: 151 ms, total: 151 ms\n",
      "Wall time: 6.34 s\n"
     ]
    }
   ],
   "source": [
    "%time df = spark.read.format('csv').load('../sample_data/sliced.csv', inferSchema='true', header='true')"
   ]
  },
  {
   "cell_type": "code",
   "execution_count": 5,
   "id": "48fc0fe8-6ee6-412b-9315-d08bb93e17a9",
   "metadata": {},
   "outputs": [],
   "source": [
    "spark.conf.set(\"spark.sql.execution.arrow.pyspark.enabled\", \"true\")"
   ]
  },
  {
   "cell_type": "code",
   "execution_count": 6,
   "id": "10db3d32-acef-4b31-9ff0-2c1c229f0ce3",
   "metadata": {},
   "outputs": [
    {
     "name": "stdout",
     "output_type": "stream",
     "text": [
      "CPU times: user 5.52 s, sys: 4.11 s, total: 9.63 s\n",
      "Wall time: 2.47 s\n"
     ]
    }
   ],
   "source": [
    "%time df = spark.createDataFrame(pa.csv.read_csv('../sample_data/sliced.csv').to_pandas())"
   ]
  },
  {
   "cell_type": "code",
   "execution_count": 7,
   "id": "b4ab11ab-f900-4af5-8431-1d0666ec7d7b",
   "metadata": {},
   "outputs": [
    {
     "name": "stdout",
     "output_type": "stream",
     "text": [
      "root\n",
      " |-- VendorID: long (nullable = true)\n",
      " |-- tpep_pickup_datetime: timestamp (nullable = true)\n",
      " |-- tpep_dropoff_datetime: timestamp (nullable = true)\n",
      " |-- passenger_count: long (nullable = true)\n",
      " |-- trip_distance: double (nullable = true)\n",
      " |-- pickup_longitude: double (nullable = true)\n",
      " |-- pickup_latitude: double (nullable = true)\n",
      " |-- RateCodeID: long (nullable = true)\n",
      " |-- store_and_fwd_flag: string (nullable = true)\n",
      " |-- dropoff_longitude: double (nullable = true)\n",
      " |-- dropoff_latitude: double (nullable = true)\n",
      " |-- payment_type: long (nullable = true)\n",
      " |-- fare_amount: double (nullable = true)\n",
      " |-- extra: double (nullable = true)\n",
      " |-- mta_tax: double (nullable = true)\n",
      " |-- tip_amount: double (nullable = true)\n",
      " |-- tolls_amount: double (nullable = true)\n",
      " |-- improvement_surcharge: double (nullable = true)\n",
      " |-- total_amount: double (nullable = true)\n",
      "\n"
     ]
    }
   ],
   "source": [
    "df.printSchema()"
   ]
  },
  {
   "cell_type": "code",
   "execution_count": 8,
   "id": "dd88e16d-58dd-4b97-8bcc-f586d38054c7",
   "metadata": {},
   "outputs": [
    {
     "name": "stdout",
     "output_type": "stream",
     "text": [
      "+-------+-------------------+------------------+-----------------+-------------------+-----------------+------------------+------------------+------------------+------------------+------------------+------------------+------------------+--------------------+------------------+------------------+---------------------+------------------+\n",
      "|summary|           VendorID|   passenger_count|    trip_distance|   pickup_longitude|  pickup_latitude|        RateCodeID|store_and_fwd_flag| dropoff_longitude|  dropoff_latitude|      payment_type|       fare_amount|             extra|             mta_tax|        tip_amount|      tolls_amount|improvement_surcharge|      total_amount|\n",
      "+-------+-------------------+------------------+-----------------+-------------------+-----------------+------------------+------------------+------------------+------------------+------------------+------------------+------------------+--------------------+------------------+------------------+---------------------+------------------+\n",
      "|  count|            3500000|           3500000|          3500000|            3500000|          3500000|           3500000|           3500000|           3500000|           3500000|           3500000|           3500000|           3500000|             3500000|           3500000|           3500000|              3500000|           3500000|\n",
      "|   mean| 1.5217765714285714|1.6799725714285714|9.500517528571242| -72.56244918053324|39.97311099664777|1.0362614285714287|              null|-72.61032741189325|40.000350487871735|          1.386906|11.903319425714857| 0.309187542857143|  0.4978167142857143|1.5450083457153747|0.2432987999994847|  0.28357997144523417|14.797866222476372|\n",
      "| stddev|0.49952562720035687|1.3367246050594372|7662.405809109092| 10.123240228129788|5.576616747636894|0.6366374357513295|              null| 9.959153534400686| 5.482752767078809|0.4988244363070999|10.357521895780561|0.3663168595959914|0.035232159268484116|2.3929551274396434|1.5534893068411322|   0.0682377649365785|12.550574389061929|\n",
      "|    min|                  1|                 0|              0.0|-121.92581176757812|              0.0|                 1|                 N| -736.183349609375|-9.029156684875488|                 1|            -450.0|              -2.0|                -0.5|             -81.0|            -11.75|                  0.0|            -450.3|\n",
      "|    max|                  2|                 9|     1.18000017E7|  78.66265106201172|  53.152587890625|                99|                 Y|  85.2740249633789|57.470916748046875|                 4|            3005.5|             100.0|                 0.5|             750.0|           1000.66|                  0.3|           3006.35|\n",
      "+-------+-------------------+------------------+-----------------+-------------------+-----------------+------------------+------------------+------------------+------------------+------------------+------------------+------------------+--------------------+------------------+------------------+---------------------+------------------+\n",
      "\n",
      "CPU times: user 20.8 ms, sys: 50.3 ms, total: 71.1 ms\n",
      "Wall time: 19 s\n"
     ]
    }
   ],
   "source": [
    "%%time\n",
    "df = spark.read.format('parquet').load('../sample_data/sliced.parquet') # using pyspark native reader\n",
    "df.describe().show()"
   ]
  },
  {
   "cell_type": "code",
   "execution_count": 9,
   "id": "20f69096-7da6-4941-8cd0-d142966fcd01",
   "metadata": {},
   "outputs": [
    {
     "name": "stdout",
     "output_type": "stream",
     "text": [
      "+-------+-------------------+------------------+-----------------+-------------------+-----------------+------------------+------------------+------------------+------------------+------------------+-----------------+------------------+-------------------+------------------+-------------------+---------------------+------------------+\n",
      "|summary|           VendorID|   passenger_count|    trip_distance|   pickup_longitude|  pickup_latitude|        RateCodeID|store_and_fwd_flag| dropoff_longitude|  dropoff_latitude|      payment_type|      fare_amount|             extra|            mta_tax|        tip_amount|       tolls_amount|improvement_surcharge|      total_amount|\n",
      "+-------+-------------------+------------------+-----------------+-------------------+-----------------+------------------+------------------+------------------+------------------+------------------+-----------------+------------------+-------------------+------------------+-------------------+---------------------+------------------+\n",
      "|  count|            3500000|           3500000|          3500000|            3500000|          3500000|           3500000|           3500000|           3500000|           3500000|           3500000|          3500000|           3500000|            3500000|           3500000|            3500000|              3500000|           3500000|\n",
      "|   mean| 1.5217765714285714|1.6799725714285714|9.500517528571338| -72.56244918053324|39.97311099664777|1.0362614285714287|              null|-72.61032741189325|40.000350487871735|          1.386906|11.90331942571431|0.3091875428571429| 0.4978167142857143|1.5450083457143624|0.24329880000004742|  0.28357997142961283|14.797866222830917|\n",
      "| stddev|0.49952562720036375|1.3367246050594315|7662.405809109184|  10.12324022812995|5.576616747636703|0.6366374357513237|              null| 9.959153534400471| 5.482752767078771|0.4988244363070942|10.35752189578052|0.3663168595959782|0.03523215926848388| 2.392955127439742| 1.5534893068411262|  0.06823776493657974|12.550574389061678|\n",
      "|    min|                  1|                 0|              0.0|-121.92581176757812|              0.0|                 1|                 N| -736.183349609375|-9.029156684875488|                 1|           -450.0|              -2.0|               -0.5|             -81.0|             -11.75|                  0.0|            -450.3|\n",
      "|    max|                  2|                 9|     1.18000017E7|  78.66265106201172|  53.152587890625|                99|                 Y|  85.2740249633789|57.470916748046875|                 4|           3005.5|             100.0|                0.5|             750.0|            1000.66|                  0.3|           3006.35|\n",
      "+-------+-------------------+------------------+-----------------+-------------------+-----------------+------------------+------------------+------------------+------------------+------------------+-----------------+------------------+-------------------+------------------+-------------------+---------------------+------------------+\n",
      "\n",
      "CPU times: user 1.75 s, sys: 1.3 s, total: 3.05 s\n",
      "Wall time: 5.96 s\n"
     ]
    }
   ],
   "source": [
    "%%time\n",
    "df = spark.createDataFrame(pq.read_table('../sample_data/sliced.parquet').to_pandas()) # using pyarrow\n",
    "df.describe().show()"
   ]
  },
  {
   "cell_type": "code",
   "execution_count": 10,
   "id": "2101bf94-4310-4fd9-b21b-3523e05ef32d",
   "metadata": {},
   "outputs": [
    {
     "name": "stdout",
     "output_type": "stream",
     "text": [
      "2.06 s ± 66.5 ms per loop (mean ± std. dev. of 7 runs, 1 loop each)\n"
     ]
    }
   ],
   "source": [
    "%%timeit \n",
    "df = spark.read.format('csv').load(\n",
    "    '../sample_data/sliced.csv', \n",
    "    inferSchema='true', \n",
    "    header='true').select('VendorID', \n",
    "                          'tpep_pickup_datetime', \n",
    "                          'passenger_count', \n",
    "                          'tip_amount', \n",
    "                          'fare_amount', \n",
    "                          'total_amount')"
   ]
  },
  {
   "cell_type": "code",
   "execution_count": 11,
   "id": "270dac3c-93e4-404a-a8b7-04192b8baf51",
   "metadata": {},
   "outputs": [
    {
     "name": "stdout",
     "output_type": "stream",
     "text": [
      "CPU times: user 3.24 s, sys: 2.48 s, total: 5.72 s\n",
      "Wall time: 2.07 s\n"
     ]
    }
   ],
   "source": [
    "%%time\n",
    "df = spark.createDataFrame(pa.csv.read_csv('../sample_data/sliced.csv',\n",
    "               convert_options=pa.csv.ConvertOptions(\n",
    "                include_columns=['VendorID', 'tpep_pickup_datetime',\n",
    "                                 'passenger_count', 'tip_amount',\n",
    "                                 'fare_amount', 'total_amount'])\n",
    "               ).to_pandas())"
   ]
  },
  {
   "cell_type": "code",
   "execution_count": 12,
   "id": "ef18694f-020d-45c2-bb8c-418d99950ddb",
   "metadata": {},
   "outputs": [],
   "source": [
    "import pandas as pd\n",
    "from pyspark.sql.functions import * \n",
    "# import the functions we want to use like 'month', 'to_timestamp'\n",
    "# and 'col'. Very useful.\n",
    "\n",
    "df = df.withColumn('tpep_pickup_datetime',\n",
    "                   to_timestamp(col('tpep_pickup_datetime'), \n",
    "                  'yyyy-MM-dd HH:mm:ss')) # the datetime format\n",
    "df = df.withColumn('pickup_month', \n",
    "                   month(col('tpep_pickup_datetime')))\n"
   ]
  },
  {
   "cell_type": "code",
   "execution_count": 13,
   "id": "81101df1-0f95-4138-b9aa-5bca1b7e8757",
   "metadata": {},
   "outputs": [
    {
     "name": "stdout",
     "output_type": "stream",
     "text": [
      "+--------+------------+--------------------+---------------+----------+-----------+------------+--------------------+\n",
      "|VendorID|pickup_month|tpep_pickup_datetime|passenger_count|tip_amount|fare_amount|total_amount|                  v3|\n",
      "+--------+------------+--------------------+---------------+----------+-----------+------------+--------------------+\n",
      "|       1|           1| 2015-01-10 20:33:38|              1|       2.0|       14.5|        17.8| 0.18341020244403536|\n",
      "|       1|           1| 2015-01-10 20:33:38|              1|       0.0|        9.5|        10.8| -0.6349579704225042|\n",
      "|       1|           1| 2015-01-10 20:33:39|              1|       0.0|        3.5|         4.8| -0.6349579704225042|\n",
      "|       1|           1| 2015-01-10 20:33:39|              1|       0.0|       15.0|        16.3| -0.6349579704225042|\n",
      "|       1|           1| 2015-01-10 20:33:39|              1|       6.7|       27.0|       40.33|  2.1065754086804036|\n",
      "|       1|           1| 2015-01-10 20:33:39|              1|       0.0|       14.0|        15.3| -0.6349579704225042|\n",
      "|       1|           1| 2015-01-10 20:33:39|              3|      1.66|        7.0|        9.96|0.044287613056723595|\n",
      "|       1|           1| 2015-01-10 20:33:39|              3|       0.0|       52.0|       58.13| -0.6349579704225042|\n",
      "|       1|           1| 2015-01-10 20:33:40|              2|      1.55|        6.5|        9.35|-7.22636450936031...|\n",
      "|       1|           1| 2015-01-10 20:33:40|              1|      1.66|        7.0|        9.96|0.044287613056723595|\n",
      "|       1|           1| 2015-01-10 20:33:41|              1|       1.0|        7.5|         9.8|-0.22577388398923443|\n",
      "|       1|           1| 2015-01-10 20:33:41|              1|       0.0|        3.0|         4.3| -0.6349579704225042|\n",
      "|       1|           1| 2015-01-10 20:33:41|              1|       3.0|       19.0|        23.3|  0.5925942888773051|\n",
      "|       1|           1| 2015-01-10 20:33:41|              1|       0.0|        6.0|         7.3| -0.6349579704225042|\n",
      "|       1|           1| 2015-01-10 19:12:21|              1|       0.0|       13.5|        14.3| -0.6349579704225042|\n",
      "|       1|           1| 2015-01-10 19:12:21|              1|      10.0|       52.0|        62.8|  3.4568828939101937|\n",
      "|       1|           1| 2015-01-04 13:44:52|              1|      2.35|       11.0|       14.15|  0.3266246326956798|\n",
      "|       1|           1| 2015-01-04 13:44:53|              2|       0.0|        5.0|         5.8| -0.6349579704225042|\n",
      "|       1|           1| 2015-01-04 13:44:53|              3|       0.0|        7.5|         8.3| -0.6349579704225042|\n",
      "|       1|           1| 2015-01-04 13:44:54|              1|      1.75|        8.0|       10.55|  0.0811141808357179|\n",
      "+--------+------------+--------------------+---------------+----------+-----------+------------+--------------------+\n",
      "only showing top 20 rows\n",
      "\n",
      "CPU times: user 43.8 ms, sys: 155 ms, total: 199 ms\n",
      "Wall time: 1min 15s\n"
     ]
    }
   ],
   "source": [
    "%%time\n",
    "\n",
    "from pyspark.sql.types import * \n",
    "\n",
    "group_columns = ['VendorID', 'pickup_month']\n",
    "non_group_cols = [col for col in df.columns if col not in group_columns]\n",
    "s = StructType([f for f in df.schema.fields if f.name in non_group_cols])\n",
    "cols = list([col(name) for name in non_group_cols])\n",
    "\n",
    "df_norm = df.withColumn('values', struct(*cols))\n",
    "df_norm = (df_norm.groupBy(*group_columns).agg(collect_list(df_norm.values).alias('values')))\n",
    "\n",
    "s2 = StructType(s.fields + [StructField('v3', DoubleType())])\n",
    "\n",
    "@udf(ArrayType(s2))\n",
    "def normalize(values):\n",
    "    v1 = pd.Series([r.tip_amount for r in values])\n",
    "    v1_norm = (v1 - v1.mean())/v1.std()\n",
    "    return [values[i] + (float(v1_norm[i]),) for i in range(0, len(values))]\n",
    "\n",
    "df_norm = (df_norm.withColumn('new_values', normalize(df_norm.values)).drop('values').withColumn('new_values', explode(col('new_values'))))\n",
    "\n",
    "for c in [f.name for f in s2.fields]:\n",
    "    df_norm = df_norm.withColumn(c, col('new_values.{0}'.format(c)))\n",
    "    \n",
    "df_norm = df_norm.drop('new_values')\n",
    "df_norm.show()\n"
   ]
  },
  {
   "cell_type": "code",
   "execution_count": 14,
   "id": "34ee894f-8b09-4c4c-a04f-5be024b8c9fa",
   "metadata": {},
   "outputs": [
    {
     "name": "stdout",
     "output_type": "stream",
     "text": [
      "+--------+--------------------+---------------+----------+-----------+------------+------------+--------------------+\n",
      "|VendorID|tpep_pickup_datetime|passenger_count|tip_amount|fare_amount|total_amount|pickup_month|                  v3|\n",
      "+--------+--------------------+---------------+----------+-----------+------------+------------+--------------------+\n",
      "|       1| 2015-01-10 20:33:38|              1|       2.0|       14.5|        17.8|           1| 0.18341020244403536|\n",
      "|       1| 2015-01-10 20:33:38|              1|       0.0|        9.5|        10.8|           1| -0.6349579704225042|\n",
      "|       1| 2015-01-10 20:33:39|              1|       0.0|        3.5|         4.8|           1| -0.6349579704225042|\n",
      "|       1| 2015-01-10 20:33:39|              1|       0.0|       15.0|        16.3|           1| -0.6349579704225042|\n",
      "|       1| 2015-01-10 20:33:39|              1|       6.7|       27.0|       40.33|           1|  2.1065754086804036|\n",
      "|       1| 2015-01-10 20:33:39|              1|       0.0|       14.0|        15.3|           1| -0.6349579704225042|\n",
      "|       1| 2015-01-10 20:33:39|              3|      1.66|        7.0|        9.96|           1|0.044287613056723595|\n",
      "|       1| 2015-01-10 20:33:39|              3|       0.0|       52.0|       58.13|           1| -0.6349579704225042|\n",
      "|       1| 2015-01-10 20:33:40|              2|      1.55|        6.5|        9.35|           1|-7.22636450936031...|\n",
      "|       1| 2015-01-10 20:33:40|              1|      1.66|        7.0|        9.96|           1|0.044287613056723595|\n",
      "|       1| 2015-01-10 20:33:41|              1|       1.0|        7.5|         9.8|           1|-0.22577388398923443|\n",
      "|       1| 2015-01-10 20:33:41|              1|       0.0|        3.0|         4.3|           1| -0.6349579704225042|\n",
      "|       1| 2015-01-10 20:33:41|              1|       3.0|       19.0|        23.3|           1|  0.5925942888773051|\n",
      "|       1| 2015-01-10 20:33:41|              1|       0.0|        6.0|         7.3|           1| -0.6349579704225042|\n",
      "|       1| 2015-01-10 19:12:21|              1|       0.0|       13.5|        14.3|           1| -0.6349579704225042|\n",
      "|       1| 2015-01-10 19:12:21|              1|      10.0|       52.0|        62.8|           1|  3.4568828939101937|\n",
      "|       1| 2015-01-04 13:44:52|              1|      2.35|       11.0|       14.15|           1|  0.3266246326956798|\n",
      "|       1| 2015-01-04 13:44:53|              2|       0.0|        5.0|         5.8|           1| -0.6349579704225042|\n",
      "|       1| 2015-01-04 13:44:53|              3|       0.0|        7.5|         8.3|           1| -0.6349579704225042|\n",
      "|       1| 2015-01-04 13:44:54|              1|      1.75|        8.0|       10.55|           1|  0.0811141808357179|\n",
      "+--------+--------------------+---------------+----------+-----------+------------+------------+--------------------+\n",
      "only showing top 20 rows\n",
      "\n",
      "CPU times: user 7.92 ms, sys: 3.21 ms, total: 11.1 ms\n",
      "Wall time: 2.31 s\n"
     ]
    }
   ],
   "source": [
    "%%time\n",
    "\n",
    "schema = StructType(df.schema.fields + [StructField('v3', DoubleType())])\n",
    "\n",
    "def vector_normalize(values):\n",
    "    v1 = values.tip_amount\n",
    "    values['v3'] = (v1 - v1.mean())/v1.std()\n",
    "    return values\n",
    "    \n",
    "group_columns = ['VendorID', 'pickup_month']\n",
    "df_pandas_norm = df.groupby(*group_columns).applyInPandas(vector_normalize, schema=schema)\n",
    "df_pandas_norm.show()\n"
   ]
  },
  {
   "cell_type": "markdown",
   "id": "c561e327-6d28-4e12-8e81-8b73b7c49682",
   "metadata": {},
   "source": [
    "## IMPORTANT\n",
    "\n",
    "Run the next cell before loading the `perspective.ipynb` notebook. You may need to refresh this window after the cell runs before the perspective widget will load.\n",
    "\n",
    "You also might need to click the puzzle piece on the sidebar and make sure you click the `Enable` button to enable third-party jupyter extensions in order to see the widgets."
   ]
  },
  {
   "cell_type": "code",
   "execution_count": 15,
   "id": "905c39ab-1d7e-403a-a2eb-c0701e14d0d5",
   "metadata": {
    "collapsed": true,
    "jupyter": {
     "outputs_hidden": true
    },
    "tags": []
   },
   "outputs": [
    {
     "name": "stdout",
     "output_type": "stream",
     "text": [
      "Requirement already satisfied: ipywidgets in /opt/conda/lib/python3.9/site-packages (7.6.5)\n",
      "Requirement already satisfied: widgetsnbextension~=3.5.0 in /opt/conda/lib/python3.9/site-packages (from ipywidgets) (3.5.2)\n",
      "Requirement already satisfied: ipython-genutils~=0.2.0 in /opt/conda/lib/python3.9/site-packages (from ipywidgets) (0.2.0)\n",
      "Requirement already satisfied: nbformat>=4.2.0 in /opt/conda/lib/python3.9/site-packages (from ipywidgets) (5.1.3)\n",
      "Requirement already satisfied: ipython>=4.0.0 in /opt/conda/lib/python3.9/site-packages (from ipywidgets) (7.31.0)\n",
      "Requirement already satisfied: traitlets>=4.3.1 in /opt/conda/lib/python3.9/site-packages (from ipywidgets) (5.1.1)\n",
      "Requirement already satisfied: jupyterlab-widgets>=1.0.0 in /opt/conda/lib/python3.9/site-packages (from ipywidgets) (1.0.2)\n",
      "Requirement already satisfied: ipykernel>=4.5.1 in /opt/conda/lib/python3.9/site-packages (from ipywidgets) (6.6.1)\n",
      "Requirement already satisfied: debugpy<2.0,>=1.0.0 in /opt/conda/lib/python3.9/site-packages (from ipykernel>=4.5.1->ipywidgets) (1.5.1)\n",
      "Requirement already satisfied: jupyter-client<8.0 in /opt/conda/lib/python3.9/site-packages (from ipykernel>=4.5.1->ipywidgets) (7.1.0)\n",
      "Requirement already satisfied: matplotlib-inline<0.2.0,>=0.1.0 in /opt/conda/lib/python3.9/site-packages (from ipykernel>=4.5.1->ipywidgets) (0.1.3)\n",
      "Requirement already satisfied: nest-asyncio in /opt/conda/lib/python3.9/site-packages (from ipykernel>=4.5.1->ipywidgets) (1.5.4)\n",
      "Requirement already satisfied: tornado<7.0,>=4.2 in /opt/conda/lib/python3.9/site-packages (from ipykernel>=4.5.1->ipywidgets) (6.1)\n",
      "Requirement already satisfied: pickleshare in /opt/conda/lib/python3.9/site-packages (from ipython>=4.0.0->ipywidgets) (0.7.5)\n",
      "Requirement already satisfied: setuptools>=18.5 in /opt/conda/lib/python3.9/site-packages (from ipython>=4.0.0->ipywidgets) (60.5.0)\n",
      "Requirement already satisfied: prompt-toolkit!=3.0.0,!=3.0.1,<3.1.0,>=2.0.0 in /opt/conda/lib/python3.9/site-packages (from ipython>=4.0.0->ipywidgets) (3.0.24)\n",
      "Requirement already satisfied: pygments in /opt/conda/lib/python3.9/site-packages (from ipython>=4.0.0->ipywidgets) (2.11.2)\n",
      "Requirement already satisfied: decorator in /opt/conda/lib/python3.9/site-packages (from ipython>=4.0.0->ipywidgets) (5.1.1)\n",
      "Requirement already satisfied: pexpect>4.3 in /opt/conda/lib/python3.9/site-packages (from ipython>=4.0.0->ipywidgets) (4.8.0)\n",
      "Requirement already satisfied: backcall in /opt/conda/lib/python3.9/site-packages (from ipython>=4.0.0->ipywidgets) (0.2.0)\n",
      "Requirement already satisfied: jedi>=0.16 in /opt/conda/lib/python3.9/site-packages (from ipython>=4.0.0->ipywidgets) (0.18.1)\n",
      "Requirement already satisfied: jsonschema!=2.5.0,>=2.4 in /opt/conda/lib/python3.9/site-packages (from nbformat>=4.2.0->ipywidgets) (4.3.3)\n",
      "Requirement already satisfied: jupyter-core in /opt/conda/lib/python3.9/site-packages (from nbformat>=4.2.0->ipywidgets) (4.9.1)\n",
      "Requirement already satisfied: notebook>=4.4.1 in /opt/conda/lib/python3.9/site-packages (from widgetsnbextension~=3.5.0->ipywidgets) (6.4.6)\n",
      "Requirement already satisfied: parso<0.9.0,>=0.8.0 in /opt/conda/lib/python3.9/site-packages (from jedi>=0.16->ipython>=4.0.0->ipywidgets) (0.8.3)\n",
      "Requirement already satisfied: attrs>=17.4.0 in /opt/conda/lib/python3.9/site-packages (from jsonschema!=2.5.0,>=2.4->nbformat>=4.2.0->ipywidgets) (21.4.0)\n",
      "Requirement already satisfied: pyrsistent!=0.17.0,!=0.17.1,!=0.17.2,>=0.14.0 in /opt/conda/lib/python3.9/site-packages (from jsonschema!=2.5.0,>=2.4->nbformat>=4.2.0->ipywidgets) (0.18.0)\n",
      "Requirement already satisfied: pyzmq>=13 in /opt/conda/lib/python3.9/site-packages (from jupyter-client<8.0->ipykernel>=4.5.1->ipywidgets) (22.3.0)\n",
      "Requirement already satisfied: python-dateutil>=2.1 in /opt/conda/lib/python3.9/site-packages (from jupyter-client<8.0->ipykernel>=4.5.1->ipywidgets) (2.8.2)\n",
      "Requirement already satisfied: entrypoints in /opt/conda/lib/python3.9/site-packages (from jupyter-client<8.0->ipykernel>=4.5.1->ipywidgets) (0.3)\n",
      "Requirement already satisfied: nbconvert in /opt/conda/lib/python3.9/site-packages (from notebook>=4.4.1->widgetsnbextension~=3.5.0->ipywidgets) (6.4.0)\n",
      "Requirement already satisfied: terminado>=0.8.3 in /opt/conda/lib/python3.9/site-packages (from notebook>=4.4.1->widgetsnbextension~=3.5.0->ipywidgets) (0.12.1)\n",
      "Requirement already satisfied: jinja2 in /opt/conda/lib/python3.9/site-packages (from notebook>=4.4.1->widgetsnbextension~=3.5.0->ipywidgets) (3.0.3)\n",
      "Requirement already satisfied: argon2-cffi in /opt/conda/lib/python3.9/site-packages (from notebook>=4.4.1->widgetsnbextension~=3.5.0->ipywidgets) (21.3.0)\n",
      "Requirement already satisfied: prometheus-client in /opt/conda/lib/python3.9/site-packages (from notebook>=4.4.1->widgetsnbextension~=3.5.0->ipywidgets) (0.12.0)\n",
      "Requirement already satisfied: Send2Trash>=1.8.0 in /opt/conda/lib/python3.9/site-packages (from notebook>=4.4.1->widgetsnbextension~=3.5.0->ipywidgets) (1.8.0)\n",
      "Requirement already satisfied: ptyprocess>=0.5 in /opt/conda/lib/python3.9/site-packages (from pexpect>4.3->ipython>=4.0.0->ipywidgets) (0.7.0)\n",
      "Requirement already satisfied: wcwidth in /opt/conda/lib/python3.9/site-packages (from prompt-toolkit!=3.0.0,!=3.0.1,<3.1.0,>=2.0.0->ipython>=4.0.0->ipywidgets) (0.2.5)\n",
      "Requirement already satisfied: six>=1.5 in /opt/conda/lib/python3.9/site-packages (from python-dateutil>=2.1->jupyter-client<8.0->ipykernel>=4.5.1->ipywidgets) (1.16.0)\n",
      "Requirement already satisfied: argon2-cffi-bindings in /opt/conda/lib/python3.9/site-packages (from argon2-cffi->notebook>=4.4.1->widgetsnbextension~=3.5.0->ipywidgets) (21.2.0)\n",
      "Requirement already satisfied: MarkupSafe>=2.0 in /opt/conda/lib/python3.9/site-packages (from jinja2->notebook>=4.4.1->widgetsnbextension~=3.5.0->ipywidgets) (2.0.1)\n",
      "Requirement already satisfied: testpath in /opt/conda/lib/python3.9/site-packages (from nbconvert->notebook>=4.4.1->widgetsnbextension~=3.5.0->ipywidgets) (0.5.0)\n",
      "Requirement already satisfied: bleach in /opt/conda/lib/python3.9/site-packages (from nbconvert->notebook>=4.4.1->widgetsnbextension~=3.5.0->ipywidgets) (4.1.0)\n",
      "Requirement already satisfied: pandocfilters>=1.4.1 in /opt/conda/lib/python3.9/site-packages (from nbconvert->notebook>=4.4.1->widgetsnbextension~=3.5.0->ipywidgets) (1.5.0)\n",
      "Requirement already satisfied: defusedxml in /opt/conda/lib/python3.9/site-packages (from nbconvert->notebook>=4.4.1->widgetsnbextension~=3.5.0->ipywidgets) (0.7.1)\n",
      "Requirement already satisfied: jupyterlab-pygments in /opt/conda/lib/python3.9/site-packages (from nbconvert->notebook>=4.4.1->widgetsnbextension~=3.5.0->ipywidgets) (0.1.2)\n",
      "Requirement already satisfied: nbclient<0.6.0,>=0.5.0 in /opt/conda/lib/python3.9/site-packages (from nbconvert->notebook>=4.4.1->widgetsnbextension~=3.5.0->ipywidgets) (0.5.9)\n",
      "Requirement already satisfied: mistune<2,>=0.8.1 in /opt/conda/lib/python3.9/site-packages (from nbconvert->notebook>=4.4.1->widgetsnbextension~=3.5.0->ipywidgets) (0.8.4)\n",
      "Requirement already satisfied: cffi>=1.0.1 in /opt/conda/lib/python3.9/site-packages (from argon2-cffi-bindings->argon2-cffi->notebook>=4.4.1->widgetsnbextension~=3.5.0->ipywidgets) (1.15.0)\n",
      "Requirement already satisfied: packaging in /opt/conda/lib/python3.9/site-packages (from bleach->nbconvert->notebook>=4.4.1->widgetsnbextension~=3.5.0->ipywidgets) (21.3)\n",
      "Requirement already satisfied: webencodings in /opt/conda/lib/python3.9/site-packages (from bleach->nbconvert->notebook>=4.4.1->widgetsnbextension~=3.5.0->ipywidgets) (0.5.1)\n",
      "Requirement already satisfied: pycparser in /opt/conda/lib/python3.9/site-packages (from cffi>=1.0.1->argon2-cffi-bindings->argon2-cffi->notebook>=4.4.1->widgetsnbextension~=3.5.0->ipywidgets) (2.21)\n",
      "Requirement already satisfied: pyparsing!=3.0.5,>=2.0.2 in /opt/conda/lib/python3.9/site-packages (from packaging->bleach->nbconvert->notebook>=4.4.1->widgetsnbextension~=3.5.0->ipywidgets) (3.0.6)\n",
      "Requirement already satisfied: perspective-python in /opt/conda/lib/python3.9/site-packages (1.3.5)\n",
      "Requirement already satisfied: pandas>=0.22.0 in /opt/conda/lib/python3.9/site-packages (from perspective-python) (1.3.5)\n",
      "Requirement already satisfied: tornado>=4.5.3 in /opt/conda/lib/python3.9/site-packages (from perspective-python) (6.1)\n",
      "Requirement already satisfied: numpy>=1.13.1 in /opt/conda/lib/python3.9/site-packages (from perspective-python) (1.20.3)\n",
      "Requirement already satisfied: traitlets>=4.3.2 in /opt/conda/lib/python3.9/site-packages (from perspective-python) (5.1.1)\n",
      "Requirement already satisfied: future>=0.16.0 in /opt/conda/lib/python3.9/site-packages (from perspective-python) (0.18.2)\n",
      "Requirement already satisfied: ipywidgets>=7.5.1 in /opt/conda/lib/python3.9/site-packages (from perspective-python) (7.6.5)\n",
      "Requirement already satisfied: python-dateutil>=2.8.0 in /opt/conda/lib/python3.9/site-packages (from perspective-python) (2.8.2)\n",
      "Requirement already satisfied: ipykernel>=4.5.1 in /opt/conda/lib/python3.9/site-packages (from ipywidgets>=7.5.1->perspective-python) (6.6.1)\n",
      "Requirement already satisfied: jupyterlab-widgets>=1.0.0 in /opt/conda/lib/python3.9/site-packages (from ipywidgets>=7.5.1->perspective-python) (1.0.2)\n",
      "Requirement already satisfied: nbformat>=4.2.0 in /opt/conda/lib/python3.9/site-packages (from ipywidgets>=7.5.1->perspective-python) (5.1.3)\n",
      "Requirement already satisfied: ipython-genutils~=0.2.0 in /opt/conda/lib/python3.9/site-packages (from ipywidgets>=7.5.1->perspective-python) (0.2.0)\n",
      "Requirement already satisfied: widgetsnbextension~=3.5.0 in /opt/conda/lib/python3.9/site-packages (from ipywidgets>=7.5.1->perspective-python) (3.5.2)\n",
      "Requirement already satisfied: ipython>=4.0.0 in /opt/conda/lib/python3.9/site-packages (from ipywidgets>=7.5.1->perspective-python) (7.31.0)\n",
      "Requirement already satisfied: pytz>=2017.3 in /opt/conda/lib/python3.9/site-packages (from pandas>=0.22.0->perspective-python) (2021.3)\n",
      "Requirement already satisfied: six>=1.5 in /opt/conda/lib/python3.9/site-packages (from python-dateutil>=2.8.0->perspective-python) (1.16.0)\n",
      "Requirement already satisfied: matplotlib-inline<0.2.0,>=0.1.0 in /opt/conda/lib/python3.9/site-packages (from ipykernel>=4.5.1->ipywidgets>=7.5.1->perspective-python) (0.1.3)\n",
      "Requirement already satisfied: debugpy<2.0,>=1.0.0 in /opt/conda/lib/python3.9/site-packages (from ipykernel>=4.5.1->ipywidgets>=7.5.1->perspective-python) (1.5.1)\n",
      "Requirement already satisfied: nest-asyncio in /opt/conda/lib/python3.9/site-packages (from ipykernel>=4.5.1->ipywidgets>=7.5.1->perspective-python) (1.5.4)\n",
      "Requirement already satisfied: jupyter-client<8.0 in /opt/conda/lib/python3.9/site-packages (from ipykernel>=4.5.1->ipywidgets>=7.5.1->perspective-python) (7.1.0)\n",
      "Requirement already satisfied: backcall in /opt/conda/lib/python3.9/site-packages (from ipython>=4.0.0->ipywidgets>=7.5.1->perspective-python) (0.2.0)\n",
      "Requirement already satisfied: pexpect>4.3 in /opt/conda/lib/python3.9/site-packages (from ipython>=4.0.0->ipywidgets>=7.5.1->perspective-python) (4.8.0)\n",
      "Requirement already satisfied: pygments in /opt/conda/lib/python3.9/site-packages (from ipython>=4.0.0->ipywidgets>=7.5.1->perspective-python) (2.11.2)\n",
      "Requirement already satisfied: decorator in /opt/conda/lib/python3.9/site-packages (from ipython>=4.0.0->ipywidgets>=7.5.1->perspective-python) (5.1.1)\n",
      "Requirement already satisfied: pickleshare in /opt/conda/lib/python3.9/site-packages (from ipython>=4.0.0->ipywidgets>=7.5.1->perspective-python) (0.7.5)\n",
      "Requirement already satisfied: setuptools>=18.5 in /opt/conda/lib/python3.9/site-packages (from ipython>=4.0.0->ipywidgets>=7.5.1->perspective-python) (60.5.0)\n",
      "Requirement already satisfied: jedi>=0.16 in /opt/conda/lib/python3.9/site-packages (from ipython>=4.0.0->ipywidgets>=7.5.1->perspective-python) (0.18.1)\n",
      "Requirement already satisfied: prompt-toolkit!=3.0.0,!=3.0.1,<3.1.0,>=2.0.0 in /opt/conda/lib/python3.9/site-packages (from ipython>=4.0.0->ipywidgets>=7.5.1->perspective-python) (3.0.24)\n",
      "Requirement already satisfied: jsonschema!=2.5.0,>=2.4 in /opt/conda/lib/python3.9/site-packages (from nbformat>=4.2.0->ipywidgets>=7.5.1->perspective-python) (4.3.3)\n",
      "Requirement already satisfied: jupyter-core in /opt/conda/lib/python3.9/site-packages (from nbformat>=4.2.0->ipywidgets>=7.5.1->perspective-python) (4.9.1)\n",
      "Requirement already satisfied: notebook>=4.4.1 in /opt/conda/lib/python3.9/site-packages (from widgetsnbextension~=3.5.0->ipywidgets>=7.5.1->perspective-python) (6.4.6)\n",
      "Requirement already satisfied: parso<0.9.0,>=0.8.0 in /opt/conda/lib/python3.9/site-packages (from jedi>=0.16->ipython>=4.0.0->ipywidgets>=7.5.1->perspective-python) (0.8.3)\n",
      "Requirement already satisfied: pyrsistent!=0.17.0,!=0.17.1,!=0.17.2,>=0.14.0 in /opt/conda/lib/python3.9/site-packages (from jsonschema!=2.5.0,>=2.4->nbformat>=4.2.0->ipywidgets>=7.5.1->perspective-python) (0.18.0)\n",
      "Requirement already satisfied: attrs>=17.4.0 in /opt/conda/lib/python3.9/site-packages (from jsonschema!=2.5.0,>=2.4->nbformat>=4.2.0->ipywidgets>=7.5.1->perspective-python) (21.4.0)\n",
      "Requirement already satisfied: entrypoints in /opt/conda/lib/python3.9/site-packages (from jupyter-client<8.0->ipykernel>=4.5.1->ipywidgets>=7.5.1->perspective-python) (0.3)\n",
      "Requirement already satisfied: pyzmq>=13 in /opt/conda/lib/python3.9/site-packages (from jupyter-client<8.0->ipykernel>=4.5.1->ipywidgets>=7.5.1->perspective-python) (22.3.0)\n",
      "Requirement already satisfied: jinja2 in /opt/conda/lib/python3.9/site-packages (from notebook>=4.4.1->widgetsnbextension~=3.5.0->ipywidgets>=7.5.1->perspective-python) (3.0.3)\n",
      "Requirement already satisfied: prometheus-client in /opt/conda/lib/python3.9/site-packages (from notebook>=4.4.1->widgetsnbextension~=3.5.0->ipywidgets>=7.5.1->perspective-python) (0.12.0)\n",
      "Requirement already satisfied: Send2Trash>=1.8.0 in /opt/conda/lib/python3.9/site-packages (from notebook>=4.4.1->widgetsnbextension~=3.5.0->ipywidgets>=7.5.1->perspective-python) (1.8.0)\n",
      "Requirement already satisfied: nbconvert in /opt/conda/lib/python3.9/site-packages (from notebook>=4.4.1->widgetsnbextension~=3.5.0->ipywidgets>=7.5.1->perspective-python) (6.4.0)\n",
      "Requirement already satisfied: argon2-cffi in /opt/conda/lib/python3.9/site-packages (from notebook>=4.4.1->widgetsnbextension~=3.5.0->ipywidgets>=7.5.1->perspective-python) (21.3.0)\n",
      "Requirement already satisfied: terminado>=0.8.3 in /opt/conda/lib/python3.9/site-packages (from notebook>=4.4.1->widgetsnbextension~=3.5.0->ipywidgets>=7.5.1->perspective-python) (0.12.1)\n",
      "Requirement already satisfied: ptyprocess>=0.5 in /opt/conda/lib/python3.9/site-packages (from pexpect>4.3->ipython>=4.0.0->ipywidgets>=7.5.1->perspective-python) (0.7.0)\n",
      "Requirement already satisfied: wcwidth in /opt/conda/lib/python3.9/site-packages (from prompt-toolkit!=3.0.0,!=3.0.1,<3.1.0,>=2.0.0->ipython>=4.0.0->ipywidgets>=7.5.1->perspective-python) (0.2.5)\n",
      "Requirement already satisfied: argon2-cffi-bindings in /opt/conda/lib/python3.9/site-packages (from argon2-cffi->notebook>=4.4.1->widgetsnbextension~=3.5.0->ipywidgets>=7.5.1->perspective-python) (21.2.0)\n",
      "Requirement already satisfied: MarkupSafe>=2.0 in /opt/conda/lib/python3.9/site-packages (from jinja2->notebook>=4.4.1->widgetsnbextension~=3.5.0->ipywidgets>=7.5.1->perspective-python) (2.0.1)\n",
      "Requirement already satisfied: jupyterlab-pygments in /opt/conda/lib/python3.9/site-packages (from nbconvert->notebook>=4.4.1->widgetsnbextension~=3.5.0->ipywidgets>=7.5.1->perspective-python) (0.1.2)\n",
      "Requirement already satisfied: mistune<2,>=0.8.1 in /opt/conda/lib/python3.9/site-packages (from nbconvert->notebook>=4.4.1->widgetsnbextension~=3.5.0->ipywidgets>=7.5.1->perspective-python) (0.8.4)\n",
      "Requirement already satisfied: testpath in /opt/conda/lib/python3.9/site-packages (from nbconvert->notebook>=4.4.1->widgetsnbextension~=3.5.0->ipywidgets>=7.5.1->perspective-python) (0.5.0)\n",
      "Requirement already satisfied: pandocfilters>=1.4.1 in /opt/conda/lib/python3.9/site-packages (from nbconvert->notebook>=4.4.1->widgetsnbextension~=3.5.0->ipywidgets>=7.5.1->perspective-python) (1.5.0)\n",
      "Requirement already satisfied: bleach in /opt/conda/lib/python3.9/site-packages (from nbconvert->notebook>=4.4.1->widgetsnbextension~=3.5.0->ipywidgets>=7.5.1->perspective-python) (4.1.0)\n",
      "Requirement already satisfied: nbclient<0.6.0,>=0.5.0 in /opt/conda/lib/python3.9/site-packages (from nbconvert->notebook>=4.4.1->widgetsnbextension~=3.5.0->ipywidgets>=7.5.1->perspective-python) (0.5.9)\n",
      "Requirement already satisfied: defusedxml in /opt/conda/lib/python3.9/site-packages (from nbconvert->notebook>=4.4.1->widgetsnbextension~=3.5.0->ipywidgets>=7.5.1->perspective-python) (0.7.1)\n",
      "Requirement already satisfied: cffi>=1.0.1 in /opt/conda/lib/python3.9/site-packages (from argon2-cffi-bindings->argon2-cffi->notebook>=4.4.1->widgetsnbextension~=3.5.0->ipywidgets>=7.5.1->perspective-python) (1.15.0)\n",
      "Requirement already satisfied: webencodings in /opt/conda/lib/python3.9/site-packages (from bleach->nbconvert->notebook>=4.4.1->widgetsnbextension~=3.5.0->ipywidgets>=7.5.1->perspective-python) (0.5.1)\n",
      "Requirement already satisfied: packaging in /opt/conda/lib/python3.9/site-packages (from bleach->nbconvert->notebook>=4.4.1->widgetsnbextension~=3.5.0->ipywidgets>=7.5.1->perspective-python) (21.3)\n",
      "Requirement already satisfied: pycparser in /opt/conda/lib/python3.9/site-packages (from cffi>=1.0.1->argon2-cffi-bindings->argon2-cffi->notebook>=4.4.1->widgetsnbextension~=3.5.0->ipywidgets>=7.5.1->perspective-python) (2.21)\n",
      "Requirement already satisfied: pyparsing!=3.0.5,>=2.0.2 in /opt/conda/lib/python3.9/site-packages (from packaging->bleach->nbconvert->notebook>=4.4.1->widgetsnbextension~=3.5.0->ipywidgets>=7.5.1->perspective-python) (3.0.6)\n",
      "Building jupyterlab assets (production, minimized)\n",
      "Building jupyterlab assets (production, minimized)\n"
     ]
    }
   ],
   "source": [
    "!pip install ipywidgets\n",
    "!pip install perspective-python\n",
    "!jupyter labextension install @jupyter-widgets/jupyterlab-manager\n",
    "!jupyter labextension install @finos/perspective-jupyterlab\n",
    "!jupyter nbextension enable --py widgetsnbextension --sys-prefix"
   ]
  }
 ],
 "metadata": {
  "kernelspec": {
   "display_name": "Python 3 (ipykernel)",
   "language": "python",
   "name": "python3"
  },
  "language_info": {
   "codemirror_mode": {
    "name": "ipython",
    "version": 3
   },
   "file_extension": ".py",
   "mimetype": "text/x-python",
   "name": "python",
   "nbconvert_exporter": "python",
   "pygments_lexer": "ipython3",
   "version": "3.9.7"
  }
 },
 "nbformat": 4,
 "nbformat_minor": 5
}
