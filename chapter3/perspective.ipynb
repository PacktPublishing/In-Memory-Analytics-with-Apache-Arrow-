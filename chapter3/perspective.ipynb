{
 "cells": [
  {
   "cell_type": "code",
   "execution_count": 1,
   "id": "0ab5f71d-4226-4851-84c6-439b2bf7cb28",
   "metadata": {},
   "outputs": [],
   "source": [
    "import pyarrow as pa\n",
    "import pyarrow.csv\n",
    "\n",
    "arrowtbl = pa.csv.read_csv('../sample_data/sliced.csv')"
   ]
  },
  {
   "cell_type": "code",
   "execution_count": 2,
   "id": "d0bf0bd9-38a2-4ae7-99cf-8174ca35e649",
   "metadata": {},
   "outputs": [],
   "source": [
    "from perspective import Table, PerspectiveWidget\n",
    "from datetime import date, datetime\n",
    "import pandas as pd"
   ]
  },
  {
   "cell_type": "code",
   "execution_count": 3,
   "id": "8305419a-8e11-41c7-8caa-121c7456a6cb",
   "metadata": {},
   "outputs": [],
   "source": [
    "sink = pa.BufferOutputStream()\n",
    "with pa.ipc.new_stream(sink, arrowtbl.schema) as writer:\n",
    "    writer.write_table(arrowtbl)\n"
   ]
  },
  {
   "cell_type": "code",
   "execution_count": 4,
   "id": "685b1a1f-d125-4a38-b964-af4b4bfb0522",
   "metadata": {},
   "outputs": [
    {
     "data": {
      "text/plain": [
       "522057136"
      ]
     },
     "execution_count": 4,
     "metadata": {},
     "output_type": "execute_result"
    }
   ],
   "source": [
    "buf = sink.getvalue()\n",
    "buf.size"
   ]
  },
  {
   "cell_type": "code",
   "execution_count": 5,
   "id": "92eb5e82-2d8e-46e9-8825-26fe2239e937",
   "metadata": {},
   "outputs": [],
   "source": [
    "table = Table(buf.to_pybytes())\n",
    "view = table.view()\n"
   ]
  },
  {
   "cell_type": "code",
   "execution_count": 6,
   "id": "a684656f-e77d-4305-ae32-70322593c5be",
   "metadata": {},
   "outputs": [
    {
     "data": {
      "text/plain": [
       "977730"
      ]
     },
     "metadata": {},
     "output_type": "display_data"
    }
   ],
   "source": [
    "view = table.view(filter=[[\"tpep_pickup_datetime\", \"<\", \"2015-01-10\"]])\n",
    "display(view.num_rows())"
   ]
  },
  {
   "cell_type": "code",
   "execution_count": 7,
   "id": "d3e07d28-691a-4193-b1a8-d8944c964183",
   "metadata": {},
   "outputs": [
    {
     "data": {
      "application/vnd.jupyter.widget-view+json": {
       "model_id": "2b6b6db1456547aca974fff3a71a053e",
       "version_major": 2,
       "version_minor": 0
      },
      "text/plain": [
       "PerspectiveWidget(columns=['VendorID', 'tpep_pickup_datetime', 'tpep_dropoff_datetime', 'passenger_count', 'tr…"
      ]
     },
     "metadata": {},
     "output_type": "display_data"
    }
   ],
   "source": [
    "widget = PerspectiveWidget(view.to_arrow())\n",
    "widget"
   ]
  },
  {
   "cell_type": "code",
   "execution_count": null,
   "id": "1a6b9197-d1e6-4ac9-8530-6a1b34f739fc",
   "metadata": {},
   "outputs": [],
   "source": []
  }
 ],
 "metadata": {
  "kernelspec": {
   "display_name": "Python 3 (ipykernel)",
   "language": "python",
   "name": "python3"
  },
  "language_info": {
   "codemirror_mode": {
    "name": "ipython",
    "version": 3
   },
   "file_extension": ".py",
   "mimetype": "text/x-python",
   "name": "python",
   "nbconvert_exporter": "python",
   "pygments_lexer": "ipython3",
   "version": "3.9.7"
  },
  "toc-showtags": true
 },
 "nbformat": 4,
 "nbformat_minor": 5
}
